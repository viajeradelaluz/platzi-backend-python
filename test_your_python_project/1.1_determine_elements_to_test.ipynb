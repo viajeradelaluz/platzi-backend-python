{
 "cells": [
  {
   "attachments": {},
   "cell_type": "markdown",
   "metadata": {},
   "source": [
    "# Determine the Elements to Test\n",
    "\n",
    "Start by reading the `README` for the [Calculator project](https://github.com/OpenClassrooms-Student-Center/7155841-Python-testing) on GitHub, and the install the application.\n",
    "\n",
    "All done? Great! Let’s see what this project is all about.\n",
    "\n",
    "You currently work at a company that needs to set up a super-calculator. Because we’ve only recently started the project, we only have three classes that operate the calculator. For the time being, the calculator can only handle four basic operations (addition, subtraction, multiplication, and division).\n",
    "\n",
    "The `main.py` file is the entry point for the application. The `controller.py` is the file that contains the application logic. The code for the user to interact with the program is contained in `view.py`. Then, the code will use the functions held within `operators.py` to perform the calculations.\n"
   ]
  },
  {
   "attachments": {},
   "cell_type": "markdown",
   "metadata": {},
   "source": [
    "## Wait, Why Do We Create Tests?\n",
    "\n",
    "Setting up tests for a project like this might seem futile. After all, we can quickly check if your addition actually performs an add operation. But what about a much bigger project? There might be hundreds of classes like these, and checking that each one does what we want it to do would be a nightmare.\n",
    "\n",
    "Worse still, imagine if you had a feature that doesn't return an error, but that also doesn't give us the result we expect. This kind of bug is likely to slip through the net. But if my code is properly covered by testing, errors can **spotted** and **quickly fixed**.\n",
    "\n",
    "\"Ah, that's the way it goes...\" you might be thinking. Well, yes, but it would be a shame to be so pessimistic when an error like this could easily be avoided. And for an organization as large as Facebook, think of the repercussions!\n"
   ]
  },
  {
   "attachments": {},
   "cell_type": "markdown",
   "metadata": {},
   "source": [
    "## Identify What Needs Testing\n",
    "\n",
    "The first question to ask when adding tests to a project is: **what do we want to test?**\n",
    "\n",
    "Our program's outcome? In our case, we can test that the result should always be displayed. Or do we want to test the code's integrity, function by function?\n",
    "\n",
    "### Define an Initial Strategy\n",
    "\n",
    "Testing only the final result of our program isn't a great idea because it's **too broad** an approach. Let's take the opposite perspective and create unit tests that will check that each method in our code produces the results we want. This will reassure us that every part of our program is **rock solid**!\n",
    "\n",
    "Our code contains 32 classes, functions, and variables that we could test. The initial strategy could therefore involve creating **as many tests as there are functions**.\n",
    "\n",
    "But this is far from ideal. Let's just think about this for a moment. Why do we want to create tests? _So that we can add a feature later on and be certain that this feature won't have an adverse effect on the previous features._\n",
    "\n",
    "So, there's no point in testing the full program logic in detail. Why? Because if I need to amend my code to improve it, this is going to fail a number of tests even though my program still works. This is because **I will have written a number of tests that are dependent on how my program was written**.\n",
    "\n",
    "### Reminder About Objects\n",
    "\n",
    "To better understand what we should be testing, let's go back to some of the concepts around object-oriented programming.\n",
    "\n",
    "Every object can be viewed as a **space shuttle in orbit**. The space shuttle has no idea what's going on in the other space shuttles. It only knows what it needs to know to carry out its own function.\n",
    "\n",
    "Space shuttles communicate with each other via **incoming** and **outgoing messages**. A shuttle can also send **internal messages** to staff within the shuttle.\n",
    "\n",
    "> Incoming messages are managed by an object's **public methods**. For example, an object called `Apollo` might have a public method `crew`, which returns the number of staff on board. Internal messages are an object's **private methods**. You can only use these inside a class and not outside. For example, `Apollo` might have a private method `repair_engine`.\n",
    "\n",
    "### Test an Interface\n",
    "\n",
    "It is good practice to test only the **incoming messages**, i.e., the public methods, and not the private methods. We consider an **object to be a black box** that contains everything it needs to function correctly. From the outside, we don't need to know how it sends us the information. We just check that the information matches what we're expecting to receive.\n",
    "\n",
    "This means we're going to test the public **interface** of an object and not its internal workings. We then have greater **flexibility**, not just in terms of our testing, but also in terms of our object configuration. You can easily change an object's code without needing to update your tests. So, for example, if one day you change the way you calculate the data but the returned result still looks how you expected, the test will still be valid and you won't need to rewrite it.\n",
    "\n",
    "### Prepare a Test Plan\n",
    "\n",
    "As you can tell, it's not very easy to identify all of the scenarios that you need to test. This is why it's important to **prepare a test plan**. It enables you to identify the items and features that require testing. It also allows you to organize and plan the test execution. A well-defined test plan can save you considerable amounts of time.\n",
    "\n",
    "The test plan can contain varying amounts of detail, but there are some important points to specify for each test case:\n",
    "\n",
    "- The **type** of test (unit, integration, functional, etc.)\n",
    "- The **unit** of code being tested\n",
    "- Test **inputs**\n",
    "- Expected **results**\n"
   ]
  },
  {
   "attachments": {},
   "cell_type": "markdown",
   "metadata": {},
   "source": [
    "## Time for You to Practice\n",
    "\n",
    "Let’s take a real example and try to identify the different **test scenarios**. Below is a class that performs operations on two values (addition, subtraction, multiplication, and division).\n"
   ]
  },
  {
   "cell_type": "code",
   "execution_count": null,
   "metadata": {},
   "outputs": [],
   "source": [
    "import re\n",
    "\n",
    "\n",
    "class Calculator:\n",
    "    def __init__(self):\n",
    "        self.left_value = 0\n",
    "        self.right_value = 0\n",
    "\n",
    "    def calculate(self, operation):\n",
    "        if self._check_and_set_value(operation):\n",
    "            if \"+\" in operation:\n",
    "                return self.left_value + self.right_value\n",
    "            elif \"-\" in operation:\n",
    "                return self.left_value - self.right_value\n",
    "            elif \"*\" in operation:\n",
    "                return self.left_value * self.right_value\n",
    "            elif \"/\" in operation:\n",
    "                try:\n",
    "                    return self.left_value / self.right_value\n",
    "                except ZeroDivisionError:\n",
    "                    return \"Invalid operation : Zero Division Error\"\n",
    "            else:\n",
    "                return \"Invalid operation\"\n",
    "        else:\n",
    "            return \"Invalid operation\"\n",
    "\n",
    "    def _check_and_set_value(self, operation):\n",
    "        operation = operation.replace(\" \", \"\")\n",
    "        values = re.split(\"\\+|\\-|\\*|\\/\", operation)\n",
    "        if len(values) == 2:\n",
    "            try:\n",
    "                self.left_value = float(values[0])\n",
    "                self.right_value = float(values[1])\n",
    "                return True\n",
    "            except ValueError:\n",
    "                return False\n",
    "        else:\n",
    "            return False"
   ]
  },
  {
   "attachments": {},
   "cell_type": "markdown",
   "metadata": {},
   "source": [
    "First of all, we need to identify **the public methods** for our `Calculator` class. We want to test the **incoming messages** and then check the **outgoing messages** from our black box. So, we’re going to test all of the public methods for the `Calculator` class.\n",
    "\n",
    "> _However, it’s important to point out that we’re not going to create one test for each public method, but as many tests as there are **possible results returned** by the public method. It’s quite normal to have several tests for just one public method._\n",
    "\n",
    "In this screencast, we’re going to identify the different scenarios for the `Calculator` class together, adopting the best practices that we recommend on this course.\n",
    "\n",
    "### Test Scenarios\n",
    "\n",
    "- Addition\n",
    "- Subtraction\n",
    "- Multiplication\n",
    "- Division\n",
    "- Division by zero\n",
    "- Number is not a float\n",
    "- Unvalid operator\n",
    "- Multiple different operators\n"
   ]
  },
  {
   "attachments": {},
   "cell_type": "markdown",
   "metadata": {},
   "source": [
    "## Let's Recap\n",
    "\n",
    "- You only need to test an object's public interface and not its internal functions.\n",
    "- Create a test plan to help organize and plan the test execution.\n",
    "- Create as many tests as there are possible results returned from the public method.\n"
   ]
  }
 ],
 "metadata": {
  "kernelspec": {
   "display_name": "Python 3.10 (hml2)",
   "language": "python",
   "name": "hml2"
  },
  "language_info": {
   "name": "python",
   "version": "3.10.9"
  },
  "orig_nbformat": 4
 },
 "nbformat": 4,
 "nbformat_minor": 2
}
