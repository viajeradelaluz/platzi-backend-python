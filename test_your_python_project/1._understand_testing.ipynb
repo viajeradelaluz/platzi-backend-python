{
 "cells": [
  {
   "attachments": {},
   "cell_type": "markdown",
   "metadata": {},
   "source": [
    "# Understand Testing\n",
    "\n",
    "There are two broad categories of testing:\n",
    "\n",
    "- **Automated** testing, which is coded by IT experts and executed y a computer. The aim of this is to ensure that the different parts of the program meet the technical specifications.\n",
    "- Manual testing, which is carried out by a human, usually the person responsible for quality assurance on a project, or the end client. The aim of this is to check that the different features were developed in line with the functional specifications.\n",
    "\n",
    "> To unsdestad these different kinds of testing, let's imagine an application called \"Crocoplus\". Crocoplus is management system designed for use in **zoos**. One of its features is to count the number of crocodiles and the number of humans to ensure that no one has been eaten."
   ]
  },
  {
   "attachments": {},
   "cell_type": "markdown",
   "metadata": {},
   "source": [
    "## Understand the Test Pyramid\n",
    "\n",
    "The test pyramid shows all of the testing that will be executed on a project, including the type of testing.\n",
    "\n",
    "<img src=\"./test_pyramid.png\" width=400>\n",
    "\n",
    "Each level of the pyramid represents a specific type of testing. And yes, there are different types of testing, which we'll have a look at right now.\n"
   ]
  },
  {
   "attachments": {},
   "cell_type": "markdown",
   "metadata": {},
   "source": [
    "### Unit Testing\n",
    "\n",
    "Unit testing is at the base of the test pyramid. As the name suggests, the aim of unit testing is to test a **single unit of code**. A unit might be a method or a function, for example. To be considered a unit test, it mues meet one specific rule:\n",
    "\n",
    "> **A unit test cannot be dependent on any functionality outside of the unit being tested.**\n",
    "\n",
    "For example, a test that accesses a database, an API or another method wouldn't be considered a unit test.\n",
    "\n",
    "Unit testing checks that **a function performs the desired action**. We're not testing how the function interacts with other functions. We're only interested in one elemente of functionallity.\n",
    "\n",
    "> For our Crocoplus project, a unit test could check that the `feed_crocodile()` function updates the last meal date for the crocodile.\n"
   ]
  },
  {
   "attachments": {},
   "cell_type": "markdown",
   "metadata": {},
   "source": [
    "### Integration Testing\n",
    "\n",
    "Integration testing sits just above unit testing in our pyramid. The purpose of integration testing is to ensure that the units of code we've tested individually integrate to form a program that behaves correctly.\n",
    "\n",
    "If you think about it, one project is likely to involve the developoment of many features. Sometimes, when working as a team, there are a number of developers involved. Integration testing will check that all features being developed will **work together**.\n",
    "\n",
    "As with unit testing, integration testing is executed automatically by a computer. This makes test execution quicker and more reliable. The testing is **based on technical specifications**, which means that the program **architecture** will be tested.\n",
    "\n",
    "> For the Crocoplus project, we might decide to implement an automated meal system. Our method, which we'll call `serve_meal()`, will be responsible for ensuring that all crocodiles are red by calling the `feed_crocodile()` method. We want to check that if `serve_meal()` is executed, the crodoiles'last meal date is updated. So, we're going to test the expected result by calling the `feed_crocodile()` method. Becouse out test depends on a function other than the one we're testing, this is an integration test.\n"
   ]
  },
  {
   "attachments": {},
   "cell_type": "markdown",
   "metadata": {},
   "source": [
    "### Functional Testing\n",
    "\n",
    "Functional testing checks that a set of features works as expected from the user's perspective. It is usually carried out by a computer due to the speed of execution, but it can also be performed by a human. It will run through a **user journey**.\n",
    "\n",
    "To automate this, there are frameworks such as **Selenium** for web applications, which can open a browser and simulate user actions.\n",
    "\n",
    "Functional tests are generally **linked to a User Story** and are designed to test that everthing flows correctly befores the manual verification step.\n",
    "\n",
    "> For our Crocoplus project, one test of this kind could ve to check the procesedd that adds a crocodile. The test ensure that a user can log in, access the page where crocodiles can be added, add one and then see a confirmation page.\n",
    "\n",
    "### Performance Testing\n",
    "\n",
    "Performance testing assesses the speed, responsiveness, and stability of an application when handling a particular workload. These tests are carried out to identify performance bottlenecks in the code.\n",
    "\n",
    "> For our Crocoplus project, the test will simulate applications functionaliry requests to measure response times. If the metrics fall within the thresholds defined in the specifications, the functionality will pass the test.\n"
   ]
  },
  {
   "attachments": {},
   "cell_type": "markdown",
   "metadata": {},
   "source": [
    "### Acceptance Testing\n",
    "\n",
    "Acceptance testing is carried out by humans, usually the client or their representative, and checks that the developed features are in line with expectations.\n",
    "\n",
    "The client provides feedback or **signs off the functionality**.\n",
    "\n",
    "> For our Crocoplus project, the client will attempt to add a crocodile and will provide their feedback if the functionality is suitable, it is marked as accpeted.\n"
   ]
  },
  {
   "attachments": {},
   "cell_type": "markdown",
   "metadata": {},
   "source": [
    "### Validation Phase\n",
    "\n",
    "This phase involves close collaboration with the client and checks that the delivered software is aligned with the client requirements. During this phase, the project team tests the different elements of the project and flushes out any final bugs before go-live.\n",
    "\n",
    "This final validation phase is common for waterfall projects (V-model), but not for agile methologies. Agile methodology favors fast delivery, and acceptance testing is used instead of validation testing.\n",
    "\n",
    "> If you can’t remember all the different stages in the waterfall project lifecycle, have a look at the chapter Discover the [Waterfall and Iterative Approaches to Software Development](https://openclassrooms.com/en/courses/4544621-learn-about-agile-project-management-and-scrum/4544628-discover-the-waterfall-and-iterative-approaches-to-software-development) from the [Learn About Agile Project Management and Scrum course](https://openclassrooms.com/en/courses/4544621-learn-about-agile-project-management-and-scrum).\n"
   ]
  },
  {
   "attachments": {},
   "cell_type": "markdown",
   "metadata": {},
   "source": [
    "### Different Types of Testing\n",
    "\n",
    "There are many other types of testing!\n",
    "\n",
    "A number of aspects of a project can be tested, including:\n",
    "\n",
    "- **Accessibility**: compliance with W3C standards, accessibility for people with disabilities, etc.\n",
    "- **Security**: SSL certificate, secure forms, encrupted databases, etc.\n",
    "\n",
    "If you'd like to find out more, take a look at the [Association for Software Testing (AST)](https://associationforsoftwaretesting.org/) webseite. Every year, they hold the AST conference.\n"
   ]
  },
  {
   "attachments": {},
   "cell_type": "markdown",
   "metadata": {},
   "source": [
    "## Let's Recap!\n",
    "\n",
    "- There are two broad categories of testing: automated and manual.\n",
    "- Testing can be broken down into five main types: \n",
    "    - Unit testing, which tests a single unit of code.\n",
    "    - Integration testing, which tests a feature.\n",
    "    - Functional testing, which tests the user journey.\n",
    "    - Performance testing, which tests response times and stability of the functionality.\n",
    "    - Acceptance testing, which tests whether the feature meets the specification.\n",
    "\n",
    "_Now that we know a bit more about different types of testing, it’s time to see how to set up the tests, starting with unit testing._\n"
   ]
  }
 ],
 "metadata": {
  "kernelspec": {
   "display_name": "Python 3.10 (hml2)",
   "language": "python",
   "name": "hml2"
  },
  "language_info": {
   "codemirror_mode": {
    "name": "ipython",
    "version": 3
   },
   "file_extension": ".py",
   "mimetype": "text/x-python",
   "name": "python",
   "nbconvert_exporter": "python",
   "pygments_lexer": "ipython3",
   "version": "3.10.9"
  },
  "orig_nbformat": 4
 },
 "nbformat": 4,
 "nbformat_minor": 2
}
