{
 "cells": [
  {
   "attachments": {},
   "cell_type": "markdown",
   "metadata": {},
   "source": [
    "# Understand Testing\n",
    "\n",
    "There are two broad categories of testing:\n",
    "\n",
    "- **Automated** testing, which is coded by IT experts and executed y a computer. The aim of this is to ensure that the different parts of the program meet the technical specifications.\n",
    "- Manual testing, which is carried out by a human, usually the person responsible for quality assurance on a project, or the end client. The aim of this is to check that the different features were developed in line with the functional specifications.\n",
    "\n",
    "> To unsdestad these different kinds of testing, let's imagine an application called \"Crocoplus\". Crocoplus is management system designed for use in **zoos**. One of its features is to count the number of crocodiles and the number of humans to ensure that no one has been eaten."
   ]
  },
  {
   "attachments": {},
   "cell_type": "markdown",
   "metadata": {},
   "source": [
    "## Understand the Test Pyramid\n",
    "\n",
    "The test pyramid shows all of the testing that will be executed ona project, including the type of testing.\n",
    "\n",
    "<img src=\"./test_pyramid.png\" width=400>\n",
    "\n",
    "Each level of the pyramid represents a specific type of testing. And yes, there are different types of testing, which we'll have a look at right now.\n",
    "\n",
    "### Unit Testing\n",
    "\n",
    "Unit testing is at the base of the test pyramid. As the name suggests, the aim of unit testing is to test a **single unit of code**. A unit might be a method or a function, for example. To be considered a unit test, it mues meet one specific rule:\n",
    "\n",
    "> **A unit test cannot be dependent on any functionality outside of the unit being tested.**\n",
    "\n",
    "For example, a test that accesses a database, an API or another method wouldn't be considered a unit test.\n",
    "\n",
    "Unit testing checks that **a function performs the desired action**. We're not testing how the function interacts with other functions. We're only interested in one elemente of functionallity.\n",
    "\n",
    "> For our Crocoplus project, a unit test could check that the `feed_crocodile()` function updates the last meal date for the crocodile.\n",
    "\n",
    "### Integration Testing\n",
    "\n",
    "Integration testing sits just above unit testing in our pyramid. The purpose of integration testing is to ensure that the units of code we've tested individually integrate to form a program that behaves correctly.\n",
    "\n",
    "If you think about it, one project is likely to involve the developoment of many features. Sometimes, when working as a team, there are a number of developers involved. Integration testing will check that all features being developed will **work together**.\n",
    "\n",
    "As with unit testing, integration testing is executed automatically by a computer. This makes test execution quicker and more reliable. The testing is **based on technical specifications**, which means that the program **architecture** will be tested.\n",
    "\n",
    "> For the Crocoplus project, we might decide to implement an automated meal system. Our method, which we'll call `serve_meal()`, will be responsible for ensuring that all crocodiles are red by calling the `feed_crocodile()` method. We want to check that if `serve_meal()` is executed, the crodoiles'last meal date is updated. So, we're going to test the expected result by calling the `feed_crocodile()` method. Becouse out test depends on a function other than the one we're testing, this is an integration test.\n",
    "\n",
    "### Functional Testing\n",
    "\n",
    "Functional testing checks that a set of features works as expected from the user's perspective. It is usually carried out by a computer due to the speed of execution, but it can also be performed by a human. It will run through a **user journey**.\n",
    "\n",
    "To automate this, there are frameworks such as **Selenium** for web applications, which can open a browser and simulate user actions.\n",
    "\n",
    "Functional tests are generally **linked to a User Story** and are designed to test that everthing flows correctly befores the manual verification step.\n",
    "\n",
    "> For our Crocoplus project, one test of this kind could ve to check the procesedd that adds a crocodile. The test ensure that a user can log in, access the page where crocodiles can be added, add one and then see a confirmation page.\n",
    "\n",
    "### Performance Testing\n",
    "\n",
    "Performance testing assesses the speed, responsiveness, and stability of an application when handling a particular workload. These tests are carried out to identify performance bottlenecks in the code.\n"
   ]
  }
 ],
 "metadata": {
  "kernelspec": {
   "display_name": "Python 3.10 (hml2)",
   "language": "python",
   "name": "hml2"
  },
  "language_info": {
   "codemirror_mode": {
    "name": "ipython",
    "version": 3
   },
   "file_extension": ".py",
   "mimetype": "text/x-python",
   "name": "python",
   "nbconvert_exporter": "python",
   "pygments_lexer": "ipython3",
   "version": "3.10.9"
  },
  "orig_nbformat": 4
 },
 "nbformat": 4,
 "nbformat_minor": 2
}
