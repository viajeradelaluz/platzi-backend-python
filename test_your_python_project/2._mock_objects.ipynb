{
 "cells": [
  {
   "attachments": {},
   "cell_type": "markdown",
   "metadata": {},
   "source": [
    "# Use Mock Objects to Simulate Object Behavior\n",
    "\n",
    "Mock objects can simulate an object’s **behavior** as well as the behavior of constants and functions. Mock objects are therefore an important component when creating unit tests, because they allow us to test our code without testing the behavior of **dependencies**.\n",
    "\n",
    "> **Mock** means imitation, as you probably know. When applied in an IT context, it refers to **objects that are designed to imitate the behavior of other objects**.\n",
    "\n",
    "For dynamic programming languages such as Python, we refer to this as **monkey patching**. In this context, when an object or method is called, the behavior is **modified dynamically** so that the value(s) we define within the test can be returned.\n",
    "\n",
    "We’ve seen in previous chapters that unit testing targets the **logic** of a single block of code. It’s important to note that during the unit testing process, we are simply testing the **internal behavior** of a function or method, by providing entry parameters and checking the exit parameters. This means that we don’t need to test the behavior of any functions or methods that are **external** to our unit of code. The external function will of course have its own unit test.\n",
    "\n",
    "This is why we want to simulate the **behavior** of these objects or functions so that we can carry out our testing without having to worry about **external dependencies**.\n",
    "\n",
    "Mock objects are mainly used in unit testing, but they are useful in a number of situations:\n",
    "\n",
    "- **Imitating the response from an API request**. We need to be able to run our tests without accessing the Internet. This might seem strange to you, but imagine if you’re working on a train, without internet access. Also, tests need to run very quickly, but a HTTP request can be a very slow operation.\n",
    "- **Imitating writing to a file**. This prevents the creation and deletion of files each time the test is run in our working folder.\n",
    "- **Working as a team on a project**. If you work in a team and you are dependent on another team member, mocks allow you to simulate your colleague’s code. Now, there’s no need to wait until your colleague has finished coding before you can start your testing.\n",
    "- **Reproducing error scenarios**. Sometimes, you’re not able to reproduce a test scenario that generates a particular error result, such as a network issue, an absent database or an API that has temporarily stopped working.\n",
    "- **Test-Driven Development**. You may not have heard of the principle of Test-Driven Development (TDD). To give you an overview, TDD means creating tests before you’ve even written the source code. We’ll take a closer look at this development principle in a later chapter.\n",
    "\n",
    "There are of course other reasons why we might use mock objects. I’ll leave you to find out about these on your own! In the meantime, I’m going to show you how to create and use a mock using **monkeypatch** and **pytest-mock**.\n"
   ]
  },
  {
   "attachments": {},
   "cell_type": "markdown",
   "metadata": {},
   "source": [
    "## Use Pytest-Mock for Mocking\n",
    "\n",
    "Pytest provides a brilliant plugin to manage mocking really easily within our projects. To use it, you first have to **install the pytest-mock plugin**, using the following command:\n",
    "\n",
    "    pip install pytest-mock\n",
    "\n",
    "Using the `mocker` fixture in pytest-mock, you can mock:\n",
    "\n",
    "- a constant.\n",
    "- a function or method.\n",
    "- an object.\n",
    "\n",
    "Let’s see how to do it. See the full examples in the [mocker_examples.py](./mocker_exampls.py) file.\n",
    "\n",
    "### Mock a Constant\n",
    "\n",
    "Sometimes, you can’t define a constant without running the whole application. Certain constants are assigned when the application is launched by reading environment variables or simply by reading a configuration file. This means that it’s **impossible to know the value** of the constant during unit testing.\n",
    "\n",
    "The line `mocker.patch.object(circle, 'PI', 3.14)` lets us change the value of the `PI` constant in the circle module to `3.14`. So, we can use this method to test our function with a predefined value of our choice when we create the test.\n",
    "\n",
    "### Mock a Function\n",
    "\n",
    "We’re going to mock the `request` function to make it return the value 100 instead of 10.\n",
    "\n",
    "In this example, we’ve changed the behavior of the `request` function held within the `request_call` function and we’ve replaced the return value with a value of 100 using the line `mocker.patch('request_call.request', return_value=100)`.\n"
   ]
  }
 ],
 "metadata": {
  "kernelspec": {
   "display_name": "Python 3.10 (hml2)",
   "language": "python",
   "name": "hml2"
  },
  "language_info": {
   "name": "python",
   "version": "3.10.9"
  },
  "orig_nbformat": 4
 },
 "nbformat": 4,
 "nbformat_minor": 2
}
