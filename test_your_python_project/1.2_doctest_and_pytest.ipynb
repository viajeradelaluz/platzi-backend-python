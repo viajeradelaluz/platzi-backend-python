{
 "cells": [
  {
   "attachments": {},
   "cell_type": "markdown",
   "metadata": {},
   "source": [
    "## Doctests\n",
    "\n",
    "- Doctests can be found within docstrings and are part of a function's documentation.\n",
    "- Doctests can provide program documentation and check the behavior of a function.\n",
    "- There are two testing frameworks, Unittest and Pytest.\n",
    "\n",
    "You can run the `python -m doctest -v doctest_12.py` command to see an example.\n"
   ]
  },
  {
   "attachments": {},
   "cell_type": "markdown",
   "metadata": {},
   "source": [
    "## Pytest\n",
    "\n",
    "### Organize Your Test Files in a Project\n",
    "\n",
    "Before you even start writing all the tests for your project, it's important to organize our project architecture so that we **keep our source code and tests separate**. However, there are a number of methods that enable you to easily find the source code associated with your tests.\n",
    "\n",
    "First of all, you can create a dedicated **folder structure** specifically for your testing. This method will group all the tests for an application together in the same place.\n",
    "\n",
    "Best practices for organizing tests:\n",
    "\n",
    "- Create a test folder structure to mirror the source file directory.\n",
    "- Name the test files with the same name as the source file with a prefix of `test_`.\n",
    "\n",
    "```bash\n",
    "|-- tests\n",
    "|   |-- package1\n",
    "|   |   |-- test_a.py\n",
    "|   |   |-- test_b.py\n",
    "|   |-- package2\n",
    "|   |   |-- test_c.py\n",
    "|   |   |-- test_d.py\n",
    "|-- test_main.py\n",
    "```\n",
    "\n",
    "Pytest will actually execute tests on all files that start with `test_` or end with `_test`. If you use this method, you can easily run the `pytest` command to execute all of the tests in your project.\n"
   ]
  },
  {
   "attachments": {},
   "cell_type": "markdown",
   "metadata": {},
   "source": [
    "### Tests for the [Calculator Project](./calculator_mini-project/)\n",
    "\n",
    "The first test is to check that the behavior of the `addition` method within the `Operators` class is correct.\n",
    "\n",
    "Let's have a look at the various steps.\n",
    "\n",
    "Before doing anything, we need to create a test file in our test folder structure and we'll name it `test_operators.py`. Next, we need to **import the module** containing the source file into the test file so that we can use the various elements.\n",
    "\n",
    "See the `tests` folder inside of [calculator_mini-project](./calculator_mini-project/tests).\n"
   ]
  },
  {
   "attachments": {},
   "cell_type": "markdown",
   "metadata": {},
   "source": [
    "## Let's Recap!\n",
    "\n",
    "- It's advisable to organize your tests in a dedicated test directory that copies the source code folder structure.\n",
    "- To create a test, you need to define a function starting with the `test_` prefix or ending with the `_test` suffix.\n",
    "- The `assert` keyword is used to check the elements that we want to check.\n",
    "- Run tests on a module using the `pytest module_name.py` command.\n"
   ]
  }
 ],
 "metadata": {
  "kernelspec": {
   "display_name": "Python 3.10 (hml2)",
   "language": "python",
   "name": "hml2"
  },
  "language_info": {
   "name": "python",
   "version": "3.10.9"
  },
  "orig_nbformat": 4
 },
 "nbformat": 4,
 "nbformat_minor": 2
}
