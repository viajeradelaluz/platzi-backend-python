{
 "cells": [
  {
   "cell_type": "markdown",
   "metadata": {},
   "source": [
    "# \"O\" for the Open/Closed Principle\n",
    "\n",
    "In our pizza restaurant, Pythonia, the waiters and waitresses are very highly skilled at their job. They obey the **single responsibility principle** by doing only one sort of thing (serving customers).\n",
    "\n",
    "However, they only speak English. Let’s imagine we wanted to train them to communicate in Italian for the convenience of all the Italian-speaking customers.\n",
    "\n",
    "This shouldn’t **modify** their existing skillset - they will still carry the pizzas in the same way and greet English-speaking customers in the same way. But after their Italian training, they have **extended** their skillset.\n",
    "\n",
    "In this way, you could say that the waiters and waitresses are **open for extension** but **closed for modification**.\n",
    "\n",
    "<blockquote style=\"padding: 1em; border-radius: 5px; font-style: italic;\">\n",
    "Could the same idea be applied to classes in Python?\n",
    "</blockquote>\n",
    "\n",
    "Great guess! This brings us to the **open/closed principle**, which states that:\n",
    "\n",
    "<blockquote style=\"padding: 1em; border-radius: 5px; font-style: italic;\">\n",
    "A class should be open to extension but closed to modification.\n",
    "</blockquote>\n",
    "\n",
    "## Why Use the Open/Closed Principle?\n",
    "\n",
    "If you **aren’t modifying the existing code**, you know **you aren’t breaking any of it**. All the new functionality is contained in the newly added function(s) or class(es).\n",
    "\n",
    "The hardest part about this principle is recognizing _when_ it can be applied _before_ you begin coding. Here are a couple of **guidelines** to help you recognize when open/closed may be applicable.\n",
    "\n",
    "- When you have **algorithms** that perform a calculation (cost, tax, game score, etc.): the algorithm will likely change over time.\n",
    "- When you have **data coming or going from the system**: the endpoint (file, database, another system) is likely to change. So is the actual format of the data.\n",
    "\n",
    "## How Do We Apply the Open/Closed Principle to Our Code?\n",
    "\n",
    "One place for modification is in the winner evaluation. In the last chapter, we created an `evaluate_game` function in the GameController class. What if we changed the game so that the lowest card wins? Then we’d have to modify GameController - maybe by adding a Boolean parameter to say \"find the high card winner\" vs. \"find the low card winner\":\n"
   ]
  },
  {
   "cell_type": "code",
   "execution_count": null,
   "metadata": {},
   "outputs": [],
   "source": [
    "class GameController:\n",
    "    def __init__(self, deck, view, high_card_wins=True):\n",
    "        # Model\n",
    "        self.players = []\n",
    "        self.deck = deck\n",
    "\n",
    "        # View\n",
    "        self.view = view\n",
    "\n",
    "        # Controller\n",
    "        self.high_card_wins = high_card_wins\n",
    "\n",
    "    def evaluate_game(self):\n",
    "        best_rank = None\n",
    "        best_rank_suit = None\n",
    "        best_candidate = None\n",
    "\n",
    "        for player in self.players:\n",
    "            this_rank = player.hand.card_by_index(0).rank\n",
    "            this_suit = player.hand.card_by_index(0).suit\n",
    "            if (\n",
    "                best_rank is None\n",
    "                or (\n",
    "                    self.high_card_wins\n",
    "                    and (\n",
    "                        (this_rank > best_rank)\n",
    "                        or (this_rank == best_rank and this_suit > best_rank_suit)\n",
    "                    )\n",
    "                )\n",
    "                or (\n",
    "                    not self.high_card_wins\n",
    "                    and (\n",
    "                        (this_rank < best_rank)\n",
    "                        or (this_rank == best_rank and this_suit < best_rank_suit)\n",
    "                    )\n",
    "                )\n",
    "            ):\n",
    "                best_candidate = player.name\n",
    "                best_rank = this_rank\n",
    "                best_rank_suit = this_suit\n",
    "\n",
    "        return best_candidate"
   ]
  },
  {
   "cell_type": "markdown",
   "metadata": {},
   "source": [
    "Ugh, that’s complicated enough! But what happens if we wanted to add even more rules?! 😨 This class becomes difficult to understand, test, and maintain.\n",
    "\n",
    "And furthermore, now everyone else who is using our `GameController` class has to implement this Boolean parameter. Not a good idea.\n",
    "\n",
    "<blockquote style=\"padding: 1em; border-radius: 5px; font-style: italic;\">\n",
    "So, what should we do?\n",
    "</blockquote>\n",
    "\n",
    "Really, the winner evaluation method should be defined outside of the GameController class, in a separate function or class.\n",
    "\n",
    "We can make a separate GameEvaluator class to do the evaluation and pass an **instance** of it into GameController. Then `evaluate_game` calls the relevant method from this GameEvaluator object.\n",
    "\n",
    "Then when we add alternative rules, such as the low card winning, we can create a `LowCardGameEvaluator` and use that instead.\n",
    "\n",
    "Let’s try this together!\n"
   ]
  },
  {
   "cell_type": "markdown",
   "metadata": {},
   "source": [
    "So how well are we following SOLID principles so far?\n",
    "\n",
    "- GameController still has a **single responsibility**.\n",
    "- GameEvaluator is a new class, also with a very clear single responsibility.\n",
    "- GameController remains open to an extension of the winner evaluation rules but closed to modification. Alternative rules for evaluating the winner can be added without affecting existing implementations.\n",
    "\n",
    "<blockquote style=\"padding: 1em; border-radius: 5px; font-style: italic;\">\n",
    "But wait - it’s possible to play a game with more complicated rules, where the winner somehow depends on something else like the cards still in the deck. We would still have to modify the GameController class!\n",
    "</blockquote>\n",
    "\n",
    "Yes, you’re right. It’s unrealistic to write code that will never need to be modified, and sometimes **breaking changes** are indeed required, which cause other code to be modified to accommodate the changes.\n",
    "\n",
    "But the closer you are following the open/closed principle, the less frequent and less troublesome these changes will be.\n",
    "\n",
    "Let’s Recap!\n",
    "- The open/closed principle says that classes should be open to extension but closed to modification.\n",
    "- In existing systems, it might take some rework to get the code in a position to take advantage of open/closed."
   ]
  },
  {
   "cell_type": "markdown",
   "metadata": {},
   "source": [
    "-------------------------------------------------------------------------------"
   ]
  },
  {
   "cell_type": "markdown",
   "metadata": {},
   "source": [
    "## Principio Abierto/Cerrado - OCP\n",
    "\n",
    "Acuñado en 1988 por Bertrand Meyer:\n",
    "\n",
    "<blockquote style=\"padding: 1em; border-radius: 5px; font-style: italic;\">\n",
    "Las entidades de software (funciones, clases, módulos, etc.) debe ser abiertas a la extensión, pero cerradas a la modificación.\n",
    "</blockquote>\n",
    "\n",
    "El objetivo es hacer que el sistema sea fácil de extender sin incurrir en un alto impacto de cambio. Los arquitectos de software logran este objetivo separando la funcionalidad del sistema en componentes prestando atención en cómo, por qué, y cuándo dicha funcionalidad cambia. Luego, organizan esos componentes en una jerarquía de dependencia que protege los componentes de nivel superior de los cambios realizados en los componentes de nivel inferior (Martin, 2017, cap.8).\n",
    "\n",
    "### La abstracción es la clave\n",
    "\n",
    "¿Cómo lograr modificar el comportamiento de un módulo sin cambiar el código fuente de ese módulo? En programación orientada a objetos es posible crear abstracciones que son fijas y sin embargo representan un grupo ilimitado de comportamientos posibles. Las abstracciones son clases _base_ abstractas, y el grupo ilimitado de\n",
    "comportamientos posibles está representado por todas las clases derivadas posibles.\n",
    "\n",
    "### Conclusión\n",
    "\n",
    "Una solución que permite poner en práctica este principio implica abstraer nuestros objetos en clases _base_. Los patrones de diseño _Strategy_ y _Template Method_ son los más comunes para satisfacer el OCP.\n"
   ]
  },
  {
   "cell_type": "markdown",
   "metadata": {},
   "source": [
    "### Ejemplo\n",
    "\n",
    "- Tarea 1: Diseña un descuento para lanzar la aplicación (15%).\n",
    "- Tarea 2: Diseña el manager de descuentos para gestionar el descuento.\n",
    "- Tarea 3: Diseña un descuento para jugadores gold (30).\n",
    "- Tarea 4: Diseña un descuento para el Black Friday (35).\n",
    "- Tarea 5: Diseña un descuento para el Navidad (50).\n"
   ]
  },
  {
   "cell_type": "code",
   "execution_count": 27,
   "metadata": {},
   "outputs": [
    {
     "name": "stdout",
     "output_type": "stream",
     "text": [
      "150.0 300.0 350.0 500.0\n"
     ]
    }
   ],
   "source": [
    "from dataclasses import dataclass\n",
    "from gzip import READ\n",
    "\n",
    "# app/module/business_rules/discount.py\n",
    "@dataclass\n",
    "class DiscountManager:\n",
    "    price: float\n",
    "\n",
    "    def apply(self, discount: int):\n",
    "        return self.price * discount / 100\n",
    "\n",
    "\n",
    "# app/module/business_rules/release_discount.py\n",
    "@dataclass\n",
    "class ReleaseDiscount(DiscountManager):\n",
    "    def apply(self, discount: int = 15):\n",
    "        return super().apply(discount)\n",
    "\n",
    "\n",
    "# app/module/business_rules/gold_player_discount.py\n",
    "@dataclass\n",
    "class GoldPlayerDiscount(DiscountManager):\n",
    "    def apply(self, discount: int = 30):\n",
    "        return super().apply(discount)\n",
    "\n",
    "\n",
    "# app/module/business_rules/black_friday_discount.py\n",
    "@dataclass\n",
    "class BlackFridayDiscount(DiscountManager):\n",
    "    def apply(self, discount: int = 35):\n",
    "        return super().apply(discount)\n",
    "\n",
    "\n",
    "# app/module/business_rules/black_friday_discount.py\n",
    "@dataclass\n",
    "class ChristmasDiscount(DiscountManager):\n",
    "    def apply(self, discount: int = 50):\n",
    "        return super().apply(discount)\n",
    "\n",
    "\n",
    "a = ReleaseDiscount(price=1000)\n",
    "b = GoldPlayerDiscount(price=1000)\n",
    "c = BlackFridayDiscount(price=1000)\n",
    "d = ChristmasDiscount(price=1000)\n",
    "print(a.apply(), b.apply(), c.apply(), d.apply())"
   ]
  }
 ],
 "metadata": {
  "kernelspec": {
   "display_name": "Python 3.10.6 64-bit",
   "language": "python",
   "name": "python3"
  },
  "language_info": {
   "codemirror_mode": {
    "name": "ipython",
    "version": 3
   },
   "file_extension": ".py",
   "mimetype": "text/x-python",
   "name": "python",
   "nbconvert_exporter": "python",
   "pygments_lexer": "ipython3",
   "version": "3.10.6"
  },
  "orig_nbformat": 4,
  "vscode": {
   "interpreter": {
    "hash": "916dbcbb3f70747c44a77c7bcd40155683ae19c65e1c03b4aa3499c5328201f1"
   }
  }
 },
 "nbformat": 4,
 "nbformat_minor": 2
}
