{
 "cells": [
  {
   "cell_type": "markdown",
   "metadata": {},
   "source": [
    "# Avoid STUPID Practices in Programming\n",
    "\n",
    "You’ve seen some good approaches to implementing our system. Now let’s look at the opposite end: the ideas that **make things worse**. You want to **avoid** these as much as possible. Fortunately, they also have an acronym, just like SOLID. These are called **STUPID**. You might also hear people describe them as design **anti-patterns**. They’re like design patterns, except they make your code worse rather than better!\n",
    "\n",
    "The hard part about avoiding these approaches is that they make sense at the time. You need to get some code working, and these approaches work, at least in the short term. But usually at the expense of long-term maintainability.\n",
    "\n",
    "So avoid the temptation, and find a way to apply a SOLID principle instead. The best way to avoid bad habits is to be aware of them. So let’s dive in!\n"
   ]
  },
  {
   "cell_type": "markdown",
   "metadata": {},
   "source": [
    "## “S” Is for Singleton\n",
    "\n",
    "A singleton is an object that guarantees that it is the only instance of its type! If you have one of them, you can’t create a second one.\n",
    "\n",
    "It can have its uses, but in modern programming, it is usually avoided. Why?\n",
    "\n",
    "- It’s troublesome to write unit tests for (see U for untestability below!).\n",
    "- You can’t subclass a singleton.\n",
    "- It breaks the O in SOLID - if requirements change and you do need another instance of a singleton, you have to modify all the code that relied on it being unique.\n",
    "- For situations where it is useful, there are other more SOLID solutions.\n",
    "\n",
    "Unlike some programming languages, it’s a little tricky to implement this anti-pattern in Python (you can do it with a decorator if you want), so at least you’re unlikely to fall into this trap by accident!\n"
   ]
  },
  {
   "cell_type": "markdown",
   "metadata": {},
   "source": [
    "## “T” Is for Tight Coupling\n",
    "\n",
    "Tight coupling is where two classes (or modules) are so interdependent that you often have to make changes to the other if you make changes to one.\n",
    "\n",
    "It makes your code less reusable (because you also have to reuse all of the baggage that comes along with each tightly-coupled class), and as a direct result, more difficult to test.\n"
   ]
  },
  {
   "cell_type": "markdown",
   "metadata": {},
   "source": [
    "## “U” Is for Untestability\n",
    "\n",
    "There are many reasons why a class is **difficult or impossible to test**. But it usually boils down to **tight coupling** with some other component. If you require many dependencies for a class to work correctly, that indicates it needs to be rewritten. Testing a component can also be tricky when it **violates single responsibility** and **does too many things**.\n"
   ]
  },
  {
   "cell_type": "markdown",
   "metadata": {},
   "source": [
    "## “P” Is for Premature Optimization\n",
    "\n",
    "Premature optimization happens when an **anticipated problem** is dealt with before it **is a problem**.\n",
    "\n",
    "<blockquote style=\"padding: 1em; border-radius: 5px; font-style: italic;\">\n",
    "But… that's good, right?\n",
    "</blockquote>\n",
    "\n",
    "Not always. For example, we have to return all cards to the deck at the end of our card game and then shuffle the deck.\n",
    "\n",
    "But we have no information about what order the cards are currently in (except for the cards that we just used in the last game)! So we don’t have to shuffle the whole deck - which could be a slow process.\n",
    "\n",
    "Instead, when we return the cards to the deck, we can insert them in random positions using a smart algorithm that ensures perfect random mixing. (In fact, it’s much harder than it sounds to get perfect random mixing here, but that’s a digression!)\n",
    "\n",
    "But cards don’t get shuffled that often. So optimizing that algorithm isn’t worth the effort - and worse: we’ve written a bunch of complicated code that future developers will take longer to understand.\n"
   ]
  },
  {
   "cell_type": "markdown",
   "metadata": {},
   "source": [
    "## “I” Is for Indescriptive Naming\n",
    "\n",
    "While this seems like something you can easily avoid, it appears quite often. It occurs because, **at the time** you are writing code, the problem and **solution make sense**. Let's say you are dealing with a rectangle, so you name the upper-left corner variables `x1` and `y1`. That makes sense.\n",
    "\n",
    "Months later, when looking at the code, you (or someone else) see these variables. What is `x1`? You have to read the code to know. If you had named the variables `upper_left_corner_x` and `upper_left_corner_y`, you would know immediately.\n",
    "\n",
    "<blockquote style=\"padding: 1em; border-radius: 5px; font-style: italic;\">\n",
    "In Python, you can make things even easier using the PEP 8 conventions for naming things in your code!\n",
    "</blockquote>\n"
   ]
  },
  {
   "cell_type": "markdown",
   "metadata": {},
   "source": [
    "## “D” Is for Duplication\n",
    "\n",
    "Duplication is an easy trap to fall into. You need to add a new feature. It should work like another feature, but a little different. What do you do? Copy, paste, and modify. If this approach continues, you end up with code duplicated in many places. If something fundamental has to change, all those copied places have to be found and modified.\n",
    "\n",
    "<blockquote style=\"padding: 1em; border-radius: 5px; font-style: italic;\">\n",
    "Is it always bad to copy and paste?\n",
    "</blockquote>\n",
    "\n",
    "Copying and pasting are acceptable when you have to get something in place in a short time. But, you need to go back and find a **better long-term solution**. Ask yourself:\n",
    "\n",
    "- Why is there so much commonality between these two pieces?\n",
    "- Can the duplicated code be put into a common function or class?\n",
    "- Can I extract an interface and put the slightly different pieces into different implementations?\n",
    "\n",
    "There is no single answer that works in every situation. The big idea here is to remember that all of these STUPID approaches are easy to do. They make sense at the time. The **problems they create** don’t **show up until later** in the project.\n"
   ]
  },
  {
   "cell_type": "markdown",
   "metadata": {},
   "source": [
    "### Let’s Recap!\n",
    "\n",
    "- STUPID stands for:\n",
    "  - Singleton\n",
    "  - Tight coupling\n",
    "  - Untestability\n",
    "  - Premature optimization\n",
    "  - Indescriptive naming\n",
    "  - Duplication\n",
    "- STUPID approaches lead to difficult-to-maintain and hard-to-test code designs.\n",
    "- It’s easy to fall into STUPID traps, so stay vigilant and ask yourself the right, SOLID questions. 😉\n"
   ]
  }
 ],
 "metadata": {
  "kernelspec": {
   "display_name": "Python 3.10.6 64-bit",
   "language": "python",
   "name": "python3"
  },
  "language_info": {
   "name": "python",
   "version": "3.10.6"
  },
  "orig_nbformat": 4,
  "vscode": {
   "interpreter": {
    "hash": "916dbcbb3f70747c44a77c7bcd40155683ae19c65e1c03b4aa3499c5328201f1"
   }
  }
 },
 "nbformat": 4,
 "nbformat_minor": 2
}
