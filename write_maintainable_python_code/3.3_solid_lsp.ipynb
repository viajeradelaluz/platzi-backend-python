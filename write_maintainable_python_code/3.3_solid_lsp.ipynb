{
 "cells": [
  {
   "cell_type": "markdown",
   "metadata": {},
   "source": [
    "# \"L\" for the Liskov Substitution Principle\n",
    "\n",
    "## What Is Liskov Substitution?\n",
    "\n",
    "**Inheritance** starts as a cool idea. You have one existing concept and then want to add another. And this new concept is just a more specific implementation of the original. Easy, **derive a new class!**\n",
    "\n",
    "But over time, it’s **easy to abuse inheritance**. And when there are too many layers of inheritance, it’s natural to lose track of what specific classes are supposed to be doing. Eventually, some class gets added that can’t do something its parent classes need to do, and the system breaks.\n",
    "\n",
    "This is a violation of Liskov substitution, which says:\n",
    "\n",
    "<blockquote style=\"padding: 1em; border-radius: 5px; font-style: italic;\">\n",
    "<strong>Child</strong> class objects should be able to replace <strong>parent</strong> class objects without breaking the integrity of the application.\n",
    "</blockquote>\n",
    "\n",
    "Or, to put this another way:\n",
    "\n",
    "Any code calling methods on objects of a specific type should continue to work when those objects get replaced with instances of a subtype.\n",
    "\n",
    "<blockquote style=\"padding: 1em; border-radius: 5px; font-style: italic;\">\n",
    "What’s a subtype?\n",
    "</blockquote>\n",
    "\n",
    "A **subtype** can be either a class extending another class or a class implementing an interface.\n",
    "\n",
    "This principle is named after **Barbara Liskov**, one of the first women in the United States to earn a doctorate in computer science. She is also the creator of the Argus and CLU programming languages.\n",
    "\n",
    "She introduced the Liskov substitution principle in her conference keynote talk, “Data Abstraction” in 1987.\n",
    "\n",
    "<img src=\"./barbara_liskov.jpg\" alt=\"Barbara Liskov\" style=\"width:150px;\"/>\n",
    "\n",
    "Being a computer scientist, she defined this formally as:\n",
    "\n",
    "<blockquote style=\"padding: 1em; border-radius: 5px; font-style: italic;\">\n",
    "Let Φ(x) be a property provable about objects x of type T. Then Φ(y) should be true for objects y of type S where S is a subtype of T.\n",
    "</blockquote>\n",
    "\n",
    "It's very theoretical, so if you’re anything like me, you’ll probably find it easier to think about this principle using the previous definitions!"
   ]
  },
  {
   "cell_type": "markdown",
   "metadata": {},
   "source": [
    "## Why Use the Liskov Substitution Principle?\n",
    "\n",
    "Let’s say you have a class called cat. It has a method in it called `eat()`. You can pass a standard cat food brand - i.e., Kitten Munch - into the eat method, and the cat is fine. 🐈 If you add a new class, Tiger, which is a kind of cat, it will reimplement the eat method. 🐅\n",
    "\n",
    "However, tigers won't eat dry food that comes from a bag. They eat raw meat. That’s not a behavior you’ve seen before. Surprise! 😬\n",
    "\n",
    "The problem happens when you think passing Kitten Munch into the eat method works for every cat. A tiger is a cat, so it should work. But it doesn't. So, you can’t just put a tiger in your system in places where you've had a cat.\n",
    "\n",
    "It violates the **Liskov substitution principle**: you can't replace a base class (Cat), with a derived class (Tiger), without affecting the rest of the system.\n",
    "\n",
    "The Liskov substitution principle helps by **limiting your use of inheritance**. While it is easy to come up with low-level, concrete implementation classes (hey, they do what you want them to do), it is better to step back and think of a high-level abstraction.\n",
    "\n",
    "For example, let's try to fix the cat and tiger problem. You have two concrete (that is, specific implementation) classes. You need to introduce a couple of higher-level interfaces/abstractions:\n",
    "\n",
    "- Carnivore, which only eats meat.\n",
    "- Omnivore, which eats meat and other things (like Kitten Munch).\n",
    "\n",
    "Now when you add any animal, you can have it implement one of those two interfaces.\n",
    "\n",
    "It made sense at the start to have a tiger be a kind of cat. But then you saw the problem when you got to implementation. **It’s often hard to recognize** when Liskov is going to be violated **ahead of time**. But when you discover a violation, you need to rethink your use of inheritance. So, when looking to use inheritance, ask yourself:\n",
    "\n",
    "- Does the derived class have a meaningful implementation for all overridden methods? If so, that's a good thing. ✅\n",
    "- Would implementing an overridden method be out of the ordinary, possibly resulting in throwing an exception? If so, that's bad. ❌\n",
    "- Would implementing an overridden method ignore the call, and do nothing? Usually, that's a bad thing, but might be justifiable. You should keep an eye out if the derived class does this for:\n",
    "  - A single method. ✅\n",
    "  - Many of them. ❌\n"
   ]
  },
  {
   "cell_type": "markdown",
   "metadata": {},
   "source": [
    "## How Do We Apply Liskov Substitution to Our Code?\n",
    "\n",
    "In our card game, View is responsible for collecting necessary responses from the user, like the player names, and presenting the game's progress.\n",
    "\n",
    "Imagine if we wanted to broadcast our exciting card game to a worldwide audience. We could create a subtype of View, perhaps called BroadcastView, which does extra things for the broadcast like displaying the local time and adding commentary. Because we're using MVC, it should be easy to replace our View object with a BroadcastView object.\n",
    "\n",
    "Take a look over the current View class and see whether you can spot the Liskov-related problem this would cause.\n"
   ]
  },
  {
   "cell_type": "code",
   "execution_count": null,
   "metadata": {},
   "outputs": [],
   "source": [
    "class View:\n",
    "    def prompt_for_new_player(self):\n",
    "        pass  # code\n",
    "\n",
    "    def show_player_and_hand(self, player_name, hand):\n",
    "        pass  # code\n",
    "\n",
    "    def prompt_for_flip_cards(self):\n",
    "        pass  # code\n",
    "\n",
    "    def show_winner(self, winner_name):\n",
    "        pass  # code\n",
    "\n",
    "    def prompt_for_new_game(self):\n",
    "        pass  # code"
   ]
  },
  {
   "cell_type": "markdown",
   "metadata": {},
   "source": [
    "The problem is that BroadcastView can’t accept instructions from the worldwide audience on what the players’ names should be, when to flip the cards, or whether to play another game. Only the players should be given these options!\n",
    "\n",
    "BroadcastView doesn’t obey Liskov substitution, as it can’t do some of the things that its parent class—View—implements. The class hierarchy is wrong.\n",
    "\n",
    "<blockquote style=\"padding: 1em; border-radius: 5px; font-style: italic;\">\n",
    "So what can we do instead?\n",
    "</blockquote>\n",
    "\n",
    "Whenever we want a view component for broadcasting, we’ll need another component that interacts with the players. So we could create a class called `PlayersAndBroadcastView` that handles everything.\n",
    "\n",
    "But this contradicts one of the *other* SOLID principles - can you see which one?\n",
    "\n",
    "That’s right - it’s the single responsibility principle! PlayersAndBroadcastView is presenting to the audience **and** the players. It would be better to keep these separate in two classes.\n",
    "\n",
    "Once you’ve seen the remaining SOLID principles, we’ll implement an excellent solution for handling collections of views while respecting all of these principles.\n",
    "\n",
    "### Let’s Recap!\n",
    "\n",
    "- Liskov substitution principle applies to inheritance hierarchies. It is violated when a derived class cannot take the place of a base class without the system breaking.\n",
    "- To make sure you avoid violating this rule, try to first think of high-level abstractions/interfaces instead of low-level/concrete implementations.\n"
   ]
  }
 ],
 "metadata": {
  "kernelspec": {
   "display_name": "Python 3.10.6 64-bit",
   "language": "python",
   "name": "python3"
  },
  "language_info": {
   "name": "python",
   "version": "3.10.6"
  },
  "orig_nbformat": 4,
  "vscode": {
   "interpreter": {
    "hash": "916dbcbb3f70747c44a77c7bcd40155683ae19c65e1c03b4aa3499c5328201f1"
   }
  }
 },
 "nbformat": 4,
 "nbformat_minor": 2
}
