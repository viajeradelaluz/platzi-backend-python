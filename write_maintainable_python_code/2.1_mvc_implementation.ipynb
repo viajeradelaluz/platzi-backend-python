{
 "cells": [
  {
   "cell_type": "markdown",
   "metadata": {},
   "source": [
    "# Implement the Model\n",
    "\n",
    "Now for the fun part: we’re going to create a simple card game application together, following the MVC design pattern. After building a 52 standard playing card deck, we will have a selectable number of players and deal a card to each player with the highest card winning. 🃑 🂱 🃁\n",
    "\n",
    "First, we begin coding and make changes as we go along. Later, we will develop some parts of the application further. If we follow sound coding principles and MVC, the impact of our changes will be minimal.\n",
    "\n",
    "## Gameplay Specifics\n",
    "\n",
    "- Create a standard 52 card deck.\n",
    "- Enter player names. Limit the number of players to five.\n",
    "- Shuffle the deck of cards.\n",
    "- Deal one card to each player (face down).\n",
    "- Flip over all players' cards, showing what card they have.\n",
    "- Check which player has the highest ranked card: Ace > King > Queen > Jack > 10 > . . . 2.\n",
    "- If tied, the winner is based on suit: Clubs > Spades > Hearts > Diamonds\n",
    "- Show the winning player name and card.\n",
    "- Put all cards back into the deck.\n",
    "- Jump back to the shuffle step.\n",
    "\n",
    "> This kind of breakdown is also called a **use case**. If you're interested in learning more, check out the course [Apply a Domain-Driven Design Approach to Development](https://openclassrooms.com/en/courses/6121861-apply-a-domain-driven-design-approach-to-development).\n"
   ]
  },
  {
   "cell_type": "markdown",
   "metadata": {},
   "source": [
    "### How Do You Plan Out the Model?\n",
    "\n",
    "Let's find the primary items players will view and interact with. The most straightforward way to find model objects is to read through the requirements, looking for the nouns. So looking at the description, you find a **card deck** (a collection of **playing cards**), **players**, card **rank**, and card **suit**.\n",
    "\n",
    "> But how do we connect players and their cards together? A player is going to possess a card during the game, right?\n",
    "\n",
    "While not explicitly mentioned, the single card for each player goes in a **Hand** class. It follows the principle of **single responsibility** - one of the **SOLID** principles that you’ll encounter later.\n",
    "\n",
    "A player consists of their name and hand. In this way, if the rules change, it's probably in the number of cards a hand holds or how the cards are manipulated. You shouldn't have to change the basic model of a player if you play a different game.\n"
   ]
  },
  {
   "cell_type": "markdown",
   "metadata": {},
   "source": [
    "### How Do You Implement the Model?\n",
    "\n",
    "Now you will need to create Python objects for each of the model elements. Let's do it together! Open up a blank Python file in your editor and follow along as you watch the videos.\n",
    "\n",
    "#### Step 1: Generate the Playing Card\n",
    "\n",
    "- A constant dictionary SUITS listing the suits.\n",
    "- A constant dictionary RANKS listing the ranks.\n",
    "- PlayingCard class that has a rank and suit.\n",
    "\n",
    "#### Step 2: Generate the Deck of Playing Cards\n",
    "\n",
    "- A Deck class that contains all the playing cards and some methods to manipulate them.\n",
    "\n",
    "#### Step 3: Generate the Players\n",
    "\n",
    "- A Hand class that contains 0 or more PlayingCard objects.\n",
    "- A Player class that contains a name and a hand.\n",
    "\n",
    "We’ll further modify the model later when you learn about SOLID principles! But first, we have to create the view and the controller.\n"
   ]
  },
  {
   "cell_type": "markdown",
   "metadata": {},
   "source": [
    "### Let’s Recap!\n",
    "\n",
    "- The model consists of the elements with which you interact. These contain the state information of the system.\n",
    "- To find your model objects, review the list of requirements.\n",
    "- In our application, we've defined that:\n",
    "  - The model consists of a player, hand, playing card, deck, rank, and suit.\n",
    "  - A player has a hand. A hand holds playing cards. A deck holds playing cards.\n"
   ]
  },
  {
   "cell_type": "markdown",
   "metadata": {},
   "source": [
    "# Implement the Controller and View\n",
    "\n",
    "The next step in building an MVC app is planning what goes in to your controller. Let's dive in!\n",
    "\n",
    "### How Do You Plan Out the Controller?\n",
    "\n",
    "The controller is responsible for **sequencing user interactions**. Here's the game sequence:\n",
    "\n",
    "- Create the deck.\n",
    "- Enter player names.\n",
    "- Shuffle the cards.\n",
    "- Deal a card to each player.\n",
    "- Flip over the cards.\n",
    "- Evaluate the winner.\n",
    "- Display the winner.\n",
    "- Reconstitute the deck.\n",
    "\n",
    "> ❓ How does the controller know what’s been inputted?\n",
    "\n",
    "The input command comes from the view. Remember that the view has two purposes: it presents the information to the user and requests any input from them.\n",
    "\n",
    "Now we need to look at the step sequence above and find the interactions between the controller and view.\n"
   ]
  },
  {
   "cell_type": "markdown",
   "metadata": {},
   "source": [
    "#### Start the Game\n",
    "\n",
    "The first step of any interaction is to instantiate the model. The controller receives or builds the core game objects. These are the deck and an empty list of players.\n",
    "\n",
    "It also needs to know about the view. The view should be created elsewhere and passed to the controller, rather than having the controller make its own.\n",
    "\n",
    "> ❓ Why are we passing the view into the controller, instead of just letting the controller make it?\n",
    "\n",
    "Well, if you were to create a mobile version of this application, it would need a completely different user interface (view). You'd then have to modify the controller. In MVC, each of the model, view, and controller should be replaceable without touching the other components.\n"
   ]
  },
  {
   "cell_type": "markdown",
   "metadata": {},
   "source": [
    "### Entering Player Names\n",
    "\n",
    "For every player who puts their name in the view, the controller should create a Player object and add it to its list of players (in the model).\n"
   ]
  },
  {
   "cell_type": "markdown",
   "metadata": {},
   "source": [
    "### Indicating Name Entry Is Complete\n",
    "\n",
    "The controller also needs to know when all players have been added so it can start dealing cards etc.\n"
   ]
  },
  {
   "cell_type": "markdown",
   "metadata": {},
   "source": [
    "### Dealing Cards\n",
    "\n",
    "The controller shuffles the deck, and then for each player, it removes the top card from the deck to put into that player’s hand (all in the model).\n"
   ]
  },
  {
   "cell_type": "markdown",
   "metadata": {},
   "source": [
    "### Revealing Cards\n",
    "\n",
    "The controller flips over each player’s card and then evaluates the winner.\n"
   ]
  },
  {
   "cell_type": "markdown",
   "metadata": {},
   "source": [
    "### Play Again\n",
    "\n",
    "The cards are taken back from the player and put back into the deck. The game can then restart from the dealing stage.\n",
    "\n",
    "> ✨ In the current implementation, the PlayingCard class contains a method to compare itself to other playing cards to choose the best card. But what happens if you want to use these PlayingCard objects in another game with different rules? You’d need to modify or replace them! 😮\n",
    ">\n",
    "> We'll discuss why it's a bad design choice to put the card0comparison logic in the PlayingCard class when we look at the SOLID principles. Then we'll find a better way of doing things.\n"
   ]
  },
  {
   "cell_type": "markdown",
   "metadata": {},
   "source": [
    "### How Do You Implement the Controller?\n",
    "\n",
    "The controller should have methods corresponding to the different stages of the game. They can use any model objects, request information from the user via the view, and present information to the view.\n",
    "\n",
    "Let's look at what we've built:\n",
    "\n",
    "- **Starting the game:** the constructor of `GameController` expects to be given a deck and a view, and instantiates a list of player objects.\n",
    "- **Entering player names:** the `add_player` method collects these from the view.\n",
    "- **Indicating name entry is complete:** the `ready` method interprets the input None as meaning that there are no more players.\n",
    "- **Dealing cards:** is handled by the `start_game` method, as it's the first thing that happens at the beginning of the game.\n",
    "- **Revealing cards:** the `ready` method waits for a signal from the user, then flips over the cards and calls the `evaluate_game` method.\n",
    "- **Play again:** `rebuild_deck` collects all the cards from the players, puts them back in the deck, and then takes the game state back to the start of Step 4.\n"
   ]
  },
  {
   "cell_type": "markdown",
   "metadata": {},
   "source": [
    "### How Do You Implement the View?\n",
    "\n",
    "Remember that the view is both the **user interface** and the **event generator**. Our controller call the view’s methods both to present information and collect information from the user.\n",
    "\n",
    "Also, the view shouldn’t know anything about what’s in the model, as this would make it harder to modify or replace.\n",
    "\n",
    "For this reason, the view’s `prompt_for_new_player` method returns a string rather than a Player object. Our view doesn’t know how to make a Player object!\n",
    "\n",
    "The same thing goes for the playing card. The controller should pass it the rank and suit to display, rather than the entire PlayingCard.\n",
    "\n",
    "Let's look at what we added:\n",
    "\n",
    "- **Entering player names:** the view sends the entered string to the controller, which creates a Player object and adds it to the model.\n",
    "- **Revealing cards:** the view provides a way for the user to get the cards flipped over and the game evaluated.\n",
    "- **Start game:** the view provides a way for the user to indicate whether they would like to play a new game or to quit the application.\n",
    "\n",
    "Our implementation is straightforward. It just shows the player names, the cards dealt, and results on the command line. But, since we've separated this functionality, we could easily replace the mechanism with a GUI implementation, or even speakers and a microphone!\n",
    "\n",
    "All that’s left is for the calling code to create the Deck, View, and Controller, and run the application - let’s see it all working together.\n"
   ]
  },
  {
   "cell_type": "markdown",
   "metadata": {},
   "source": [
    "### Let’s Recap!\n",
    "\n",
    "- The controller is responsible for sequencing a use case and validates events sent by the view.\n",
    "- The view is responsible for presenting the model and sequence information and gathering input from the user.\n",
    "- The controller's responsibilities are determined by looking at the steps of the application. The view's responsibilities are determined by what the controller needs to show to the user.\n"
   ]
  }
 ],
 "metadata": {
  "kernelspec": {
   "display_name": "Python 3.10.4 ('math-notes')",
   "language": "python",
   "name": "python3"
  },
  "language_info": {
   "name": "python",
   "version": "3.10.4"
  },
  "orig_nbformat": 4,
  "vscode": {
   "interpreter": {
    "hash": "8888be63617b52a4083bb904edd321b9cf87db70d7fc6ca5bbb3945abbb116d6"
   }
  }
 },
 "nbformat": 4,
 "nbformat_minor": 2
}
