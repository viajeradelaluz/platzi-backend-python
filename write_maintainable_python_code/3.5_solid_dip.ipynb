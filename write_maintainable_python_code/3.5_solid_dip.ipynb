{
 "cells": [
  {
   "cell_type": "markdown",
   "metadata": {},
   "source": [
    "# \"D\" for the Dependency Inversion Principle\n",
    "\n",
    "The **dependency inversion** principle always sounds more complicated than it is. It says:\n",
    "\n",
    "<blockquote style=\"padding: 1em; border-radius: 5px; font-style: italic;\">\n",
    "High-level classes shouldn’t have to change just because low-level classes change.\n",
    "</blockquote>\n",
    "\n",
    "<blockquote style=\"padding: 1em; border-radius: 5px; font-style: italic;\">\n",
    "High-level classes shouldn’t depend on low-level classes. Both should depend on abstractions. Abstractions shouldn’t depend on details. Details should depend on abstractions.\n",
    "</blockquote>\n",
    "\n",
    "High-level classes typically _drive_ your system. You want them to remain as stable as possible.\n",
    "\n",
    "## Why Should You Use Dependency Inversion?\n",
    "\n",
    "Speaking of driving, let’s take cars as an example. The high-level classes are the items you interact with most: steering wheel, accelerator, and brake pedal. They tell the low-level implementation classes (tires, engine, brakes) what to do.\n",
    "\n",
    "Let’s see what happens to the high-level classes if you change the engine from gas to electric. Nothing! A driver still steers, accelerates, and brakes using the same functionality. If you had violated this principle, the switch to electric (a low-level class) would force a change to the driver's interface (a high-level class). That sounds obvious with a car, but it’s easy to mess it up in code.\n",
    "\n",
    "This ensures that you put the **high-level classes** in charge. They **define the interface** through which they communicate. In the car, you make the engine go faster by stepping on the accelerator pedal. It’s up to the engine to conform to this standard.\n",
    "\n",
    "## How Do We Apply Dependency Inversion to Our Code?\n",
    "\n",
    "In our game, the view needs to be driven by the controller. So the controller defines the interface. Any view must conform to it. Otherwise, every time you change the interface, the controller must be modified to conform to the view (that’s backward).\n",
    "\n",
    "But in the last chapter, we did have to modify the controller substantially to upgrade the view to support broadcasting! So it looks like we’re not yet conforming to the dependency inversion principle.\n",
    "\n",
    "The cause of this problem was letting the controller know too much about the structure of the view. It doesn’t affect the game’s flow if we have various extra broadcasts happening, so GameController shouldn’t have any code that depends on specific details of the view.\n",
    "\n",
    "### Try it Yourself!\n",
    "\n",
    "As a final challenge, let’s revert our changes to GameController.run, and find a way to broadcast our game on any number of view components without ever needing to change the code in our controller. Make sure you are following all five of the SOLID design principles and the MVC design pattern in your solution!\n",
    "\n",
    "<blockquote style=\"padding: 1em; border-radius: 5px; font-style: italic;\">\n",
    "Here’s a hint: try defining a new class called MultiView, and passing this into GameController as the only view object.\n",
    "</blockquote>\n"
   ]
  }
 ],
 "metadata": {
  "kernelspec": {
   "display_name": "Python 3.10.6 64-bit",
   "language": "python",
   "name": "python3"
  },
  "language_info": {
   "name": "python",
   "version": "3.10.6"
  },
  "orig_nbformat": 4,
  "vscode": {
   "interpreter": {
    "hash": "916dbcbb3f70747c44a77c7bcd40155683ae19c65e1c03b4aa3499c5328201f1"
   }
  }
 },
 "nbformat": 4,
 "nbformat_minor": 2
}
