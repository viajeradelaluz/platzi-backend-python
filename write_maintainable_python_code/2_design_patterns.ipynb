{
 "cells": [
  {
   "cell_type": "markdown",
   "metadata": {},
   "source": [
    "# Design Patterns\n",
    "\n",
    "## What Is a Design Pattern?\n",
    "\n",
    "A design pattern is a proven, reusable solution to a commonly occurring problem. It describes the static or dynamic nature of classes and objects that implement the solution. For any design pattern, you are free to tailor the solution to fit your particular situation.\n",
    "\n",
    "In 1994, the “Gang of Four” (Erich Gamma, Richard Helm, Ralph Johnson, and John Vlissides) released the book _Design Patterns: Elements of Reusable Object-Oriented Software_. These four authors looked at over 300 projects that other developers were working on. They recognized that many of the same problems kept appearing. They also noticed that these various projects solved the problems in roughly the same way. Their book discusses these problems and solutions, giving them the name patterns.\n",
    "\n",
    "The world of design patterns has evolved since then, with the popularity of more modern languages, such as Python, designed to avoid some of these problems. 🎉 However, it’s still a super important concept regardless of the language - and in this course, we’ll be looking at three that are especially suitable to Python.\n",
    "\n",
    "- The **constant** design pattern: this very simple pattern makes it easy for developers to update your code values.\n",
    "- The **decorator** design pattern: this medium-complexity pattern makes it easy to create many functions that do similar things.\n",
    "- The **model-view-controller** pattern: this pattern is an architecture you can use for your entire application, making it easy for users to interact with your system reliably.\n",
    "\n",
    "### Let’s Recap!\n",
    "\n",
    "- Patterns are proven, reusable solutions to commonly occurring problems.\n",
    "- Use of patterns leads to better understandability and maintainability.\n"
   ]
  },
  {
   "cell_type": "markdown",
   "metadata": {},
   "source": [
    "## **Constant Design Pattern**: Avoid confusing\n",
    "\n",
    "- The constant design pattern is a simple pattern affecting a single value.\n",
    "- Repeated values can be defined once in the application.\n",
    "- Future developers can easily understand the significance of the value.\n",
    "- Future developers can easily modify the value if requirements change.\n",
    "- Many surprising bugs can be avoided using the constant design pattern.\n"
   ]
  },
  {
   "cell_type": "markdown",
   "metadata": {},
   "source": [
    "## **Decorator Design Pattern**: Create flexible functions\n",
    "\n",
    "- In Python, functions are first-class objects, so they can be passed into and out of functions just like any other variable.\n",
    "- The decorator design pattern provides a way to modify a function, often by adding functionality before and after it runs.\n",
    "- It can be useful when several similar functions have differing core functionality but significant shared functionality.\n",
    "- The @decorator_function syntax makes it simpler to write code involving decorators.\n"
   ]
  },
  {
   "cell_type": "code",
   "execution_count": null,
   "metadata": {},
   "outputs": [],
   "source": [
    "# Pythonia Pizza 🍕\n",
    "\n",
    "def prepare_pizza(pizza):\n",
    "    def wrapper():\n",
    "        # >> Do something at the start\n",
    "        # Prepare the pizza\n",
    "        print(\"Rolling the dough...\")\n",
    "        print(\"Spreading the sauce...\")\n",
    "        print(\"Sprinkling the cheese...\")\n",
    "        \n",
    "        # >> Execute the function\n",
    "        # Add the unique ingredients for the pizza\n",
    "        pizza()\n",
    "        \n",
    "        # >> Do something at the end\n",
    "        # Finish the pizza\n",
    "        print(\"Baking the pizza at 400 degrees for 15 minutes.\")\n",
    "        print(\"Serve the pizza.\")\n",
    "\n",
    "    return wrapper\n",
    "\n",
    "@prepare_pizza\n",
    "def molto_piccante():\n",
    "    print(\"Adding pepperoni...\")\n",
    "    print(\"Adding spicy salami...\")\n",
    "    print(\"Adding jalapeno peppers...\")\n",
    "    \n",
    "\n",
    "@prepare_pizza\n",
    "def vegetarian():\n",
    "    print(\"Adding mushrooms...\")\n",
    "    print(\"Adding black olives...\")\n",
    "    print(\"Adding green peppers...\")\n",
    "\n",
    "molto_piccante()\n",
    "print(\"--------------------\")\n",
    "vegetarian()"
   ]
  },
  {
   "cell_type": "markdown",
   "metadata": {},
   "source": [
    "## **MVC Design Pattern**: Structure an Application\n",
    "\n",
    "### What Is MVC?\n",
    "\n",
    "MVC is a software architecture approach. It divides the responsibilities of the system into three distinct parts:\n",
    "\n",
    "- **Model:** The model holds the state information of the system.\n",
    "- **View:** The view presents the model information to the user.\n",
    "- **Controller:** The controller makes sure that user commands are executed correctly, modifying the appropriate model objects, and updating the view objects.\n",
    "\n",
    "How does this work in practice? Think about how you would interact with one of those old-school jukeboxes.\n",
    "\n",
    "When you want to hear some tunes, all you’re concerned with is the tool for selecting songs and the speaker system that plays them to you.\n",
    "\n",
    "You pay your coin, pick your chosen song, and finally listen to it while everyone within earshot judges you for your terrible taste in music. 😱\n",
    "\n",
    "But you don’t care if the songs are in MP3 format, vinyl, or downloaded from the internet on the fly. You don’t care about how often the mechanic comes to service the machine and collects the money.\n",
    "\n",
    "The things you interact with comprise the **view**, while behind the scenes, the **model** stores all of the state information, and the **controller** sequences all of the actions so that, for example, you can’t play your song before inserting your coin!\n",
    "\n",
    "And it turns out it’s much simpler if these three components - with their separate responsibilities - are kept separate within the architecture of your system.\n",
    "\n",
    "So how would this look if the jukebox were somehow implemented in Python?\n"
   ]
  },
  {
   "cell_type": "markdown",
   "metadata": {},
   "source": [
    "### What Goes in the Model (M)?\n",
    "\n",
    "**State information** is kept in **model** classes. These are the items being viewed and manipulated. Also, if you need to store anything long term, it will be the model objects. For the jukebox, this might be the library of songs and artworks, the price list, and the date when the mechanic last visited.\n"
   ]
  },
  {
   "cell_type": "code",
   "execution_count": 6,
   "metadata": {},
   "outputs": [],
   "source": [
    "from datetime import datetime\n",
    "\n",
    "PRICE_PER_SONG = 1.20\n",
    "\n",
    "class Song:\n",
    "    def __init__(self, name, artist, genre, artwork):\n",
    "        self.artist = artist\n",
    "        self.name = name\n",
    "        self.genre = genre\n",
    "        self.artwork = artwork\n",
    "\n",
    "class Library:\n",
    "    def __init__(self):\n",
    "        self.songs = []\n",
    "\n",
    "class ServiceInfo:\n",
    "    def __init__(self, status, engineer_name):\n",
    "        self.service_date = datetime.now()\n",
    "        self.status = status\n",
    "        self.engineer = engineer_name"
   ]
  },
  {
   "cell_type": "markdown",
   "metadata": {},
   "source": [
    "In the next chapter, you’ll practice applying this by developing a simple application, where you will put the relevant functionality in each of the model, view, and controller."
   ]
  },
  {
   "cell_type": "markdown",
   "metadata": {},
   "source": [
    "### What Goes in the View (V)?\n",
    "\n",
    "The view is how the model is **presented and interacted** with by the user. It's the most likely thing to change. You want the way this part interacts with the rest of the system to be distinct. For the jukebox, this would include the panel of buttons for selecting the music, the coin slot where you pay, and the speakers that blast out your favorite classics. 🎵\n"
   ]
  },
  {
   "cell_type": "code",
   "execution_count": 8,
   "metadata": {},
   "outputs": [],
   "source": [
    "class Touchscreen:\n",
    "    def select_song(self):\n",
    "        pass\n",
    "\n",
    "    def prompt_for_next_song(self, songs):\n",
    "        for song in songs:\n",
    "            # display the songs\n",
    "            pass\n",
    "        return \"Dark Chest of Wonders\"\n",
    "\n",
    "\n",
    "class Speakers:\n",
    "    def __init__(self):\n",
    "        self.volume = 5\n",
    "\n",
    "    def get_louder(self):\n",
    "        self.volume += 1\n",
    "\n",
    "    def get_quieter(self):\n",
    "        self.volume -= 1\n",
    "\n",
    "    def play_song(self, song):\n",
    "        pass\n",
    "\n",
    "\n",
    "class CoinSlot:\n",
    "    def __init__(self, float_):\n",
    "        self.amount = float_\n",
    "\n",
    "    def request_money(self, amount):\n",
    "        # wait for money\n",
    "        # give change\n",
    "        self.amount += amount\n",
    "        return True"
   ]
  },
  {
   "cell_type": "markdown",
   "metadata": {},
   "source": [
    "How can the view contain speakers? They don’t produce images!\n",
    "\n",
    "True - but the view is just the general name given to all the system's user-facing components. The view will be the console output in our card game (next chapter), but it could instead be an API interface or a web page for other applications."
   ]
  },
  {
   "cell_type": "markdown",
   "metadata": {},
   "source": [
    "### What Goes in the Controller (C)?\n",
    "\n",
    "The controller is where the **flow of the application** is managed. All the **sequencing of interactions** between the user and the system is here. The user interacts with the view, which then interacts with the controller. The controller then makes the appropriate modifications to the model objects, makes new ones, or deletes no longer needed ones.\n",
    "\n",
    "In the jukebox, this would include the logic that selects songs for you to browse, the logic that waits for you to pay before the music is played, and the system for calling the mechanic. Notice how the controller uses and modifies the model, and how it tells the view what to do.\n"
   ]
  },
  {
   "cell_type": "code",
   "execution_count": 9,
   "metadata": {},
   "outputs": [],
   "source": [
    "class Controller:\n",
    "    def __init__(self):\n",
    "        self.library = Library()\n",
    "        self.service_history = []\n",
    "        self.audio_output = Speakers()\n",
    "        self.ui = Touchscreen()\n",
    "        self.bank = CoinSlot()\n",
    "\n",
    "    def play_next_song(self):\n",
    "        songs_to_suggest = []\n",
    "        for song in self.library:\n",
    "            # filter logic\n",
    "            songs_to_suggest.append(song)\n",
    "        chosen_song = self.ui.prompt_for_next_song(songs_to_suggest)\n",
    "        self.bank.request_money(PRICE_PER_SONG)\n",
    "        self.audio_output.play_song(chosen_song)\n",
    "\n",
    "    # Lots more functions go here..."
   ]
  },
  {
   "cell_type": "markdown",
   "metadata": {},
   "source": [
    "### What Are the Advantages of MVC?\n",
    "\n",
    "Imagine you wanted to upgrade the old-school jukebox with the most exciting new music. You only need to update the model! The view and controller will work seamlessly with the updated library.\n",
    "\n",
    "Or imagine you wanted to add some wireless headphones so you and your friends can go wild without disturbing the neighborhood. This only affects the view, while the model and controller stay untouched.\n",
    "\n",
    "It also means you could test the headphone technology before buying and installing it by attaching it to another music device in the store!\n",
    "\n",
    "Separating the parts of the architecture into different pieces with distinct responsibilities like this makes the system much easier to:\n",
    "\n",
    "- Modify\n",
    "- Test\n",
    "- Repair\n",
    "\n",
    "Later in this course, you will learn the **SOLID principles**, which are rules you can follow to ensure your code is maintainable for these reasons. And no surprise - you’ll see that the MVC design pattern follows these principles very well!\n",
    "\n",
    "<img src=\"./mvc.jpg\" alt=\"MVC diagrm\" style=\"width:600px;\"/>\n"
   ]
  },
  {
   "cell_type": "markdown",
   "metadata": {},
   "source": [
    "### Let’s Recap!\n",
    "\n",
    "- MVC ensures your code is easy to maintain by separating responsibilities:\n",
    "- The model contains state information.\n",
    "- The view contains the elements that interact with the user.\n",
    "- The controller makes sure the sequence of steps occurs correctly.\n"
   ]
  }
 ],
 "metadata": {
  "kernelspec": {
   "display_name": "Python 3.10.4 ('math-notes')",
   "language": "python",
   "name": "python3"
  },
  "language_info": {
   "codemirror_mode": {
    "name": "ipython",
    "version": 3
   },
   "file_extension": ".py",
   "mimetype": "text/x-python",
   "name": "python",
   "nbconvert_exporter": "python",
   "pygments_lexer": "ipython3",
   "version": "3.10.4"
  },
  "orig_nbformat": 4,
  "vscode": {
   "interpreter": {
    "hash": "8888be63617b52a4083bb904edd321b9cf87db70d7fc6ca5bbb3945abbb116d6"
   }
  }
 },
 "nbformat": 4,
 "nbformat_minor": 2
}
