{
 "cells": [
  {
   "cell_type": "markdown",
   "metadata": {},
   "source": [
    "# \"I\" for the Interface Segregation Principle\n",
    "\n",
    "If you are comfortable with the single responsibility principle, the **interface segregation principle** will make perfect sense. It’s the same thing, only for interfaces:\n",
    "\n",
    "<blockquote style=\"padding: 1em; border-radius: 5px; font-style: italic;\">\n",
    "An interface should describe one set of behaviors.\n",
    "</blockquote>\n",
    "\n",
    "<blockquote style=\"padding: 1em; border-radius: 5px; font-style: italic;\">\n",
    "Clients shouldn't be forced to depend on methods they do not use.\n",
    "</blockquote>\n",
    "\n",
    "You can run into the same trouble with interfaces as with classes. You need to add a new capability to an existing interface, rather than creating a new one. Now all implementing classes have one more thing they have to account for. 😐\n",
    "\n",
    "Keeping **interfaces small** and to the point **decreases coupling**. Coupling refers to how closely connected two pieces of software are. The more an interface defines, the more an implementing class needs to do as well. That makes that class **less reusable**.\n",
    "\n",
    "Because of Python's famous **duck typing** feature, interfaces are not used as extensively as in other programming languages. If an object walks like a duck and swims like a duck, then Python is happy to treat it as a duck, even if it is a swan!\n",
    "\n",
    "But you’ll often find yourself in a situation where you want two or more classes to act as alternatives to one another, even if they don’t implement any explicit interface. In this case, the interface segregation principle still applies! It tells you not to expose unnecessary methods in these classes. Because if you do, you have to add an equivalent method to all of its alternatives!\n"
   ]
  },
  {
   "cell_type": "markdown",
   "metadata": {},
   "source": [
    "## How Do We Apply the Interface Segregation Principle to Our Code?\n",
    "\n",
    "Due to popular demand, audiences around the world want to watch our exciting card game on their televisions and streamed over the internet. Let’s make it happen!\n",
    "\n",
    "We’re going to need three different sorts of view:\n",
    "\n",
    "- PlayerView: the players interact with this (renamed from View)\n",
    "- BroadcastView\n",
    "- InternetStreamingView\n",
    "\n",
    "<blockquote style=\"padding: 1em; border-radius: 5px; font-style: italic;\">\n",
    "Are we still using the MVC design pattern? Or something like MVVVC because of the extra views?\n",
    "</blockquote>\n",
    "\n",
    "It’s still MVC! Our view contains several components, just like our model contains the PlayingCard, Deck, and Player components.\n",
    "\n",
    "Our solution works, but some of the code seemed rather pointless. Some of the methods - such as `BroadcastView.prompt_for_flip_cards` - had to be carefully implemented so they wouldn't affect the game.\n",
    "\n",
    "These methods should never need to be called or implemented. This is a clear sign that we’re violating the interface segregation principle!\n",
    "\n",
    "<blockquote style=\"padding: 1em; border-radius: 5px; font-style: italic;\">\n",
    "What can we do instead?\n",
    "</blockquote>\n",
    "\n",
    "Ultimately we want BroadcastView and InternetStreamingView to contain only the following methods:\n",
    "\n",
    "- `display_player_and_hand`\n",
    "- `display_winner`\n",
    "\n",
    "We then have to rewrite the code so that view objects aren’t expected to implement any other methods, unless it’s PlayerView.\n",
    "\n",
    "Try it yourself—reverting your edits from the previous video if necessary— and then take a look at one potential solution, in the video below.\n",
    "\n",
    "We’ve successfully written a collection of alternative view objects that aren’t bloated by unnecessary methods, despite the extra functionality that needs to be preserved in PlayerView.\n",
    "\n",
    "### Let’s Recap!\n",
    "\n",
    "- Interface segregation is the single responsibility principle for interfaces.\n",
    "- It’s easy to violate the principle. The temptation is to add a new method to an existing interface, since it’s already doing something.\n",
    "- When in doubt, it's better to have two interfaces with few methods to implement, rather than a single interface with too many responsibilities.\n"
   ]
  }
 ],
 "metadata": {
  "kernelspec": {
   "display_name": "Python 3.10.6 64-bit",
   "language": "python",
   "name": "python3"
  },
  "language_info": {
   "name": "python",
   "version": "3.10.6"
  },
  "orig_nbformat": 4,
  "vscode": {
   "interpreter": {
    "hash": "916dbcbb3f70747c44a77c7bcd40155683ae19c65e1c03b4aa3499c5328201f1"
   }
  }
 },
 "nbformat": 4,
 "nbformat_minor": 2
}
